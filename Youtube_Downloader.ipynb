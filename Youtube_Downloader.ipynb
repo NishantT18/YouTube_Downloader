{
 "cells": [
  {
   "cell_type": "code",
   "execution_count": null,
   "metadata": {},
   "outputs": [],
   "source": [
    "from tkinter import *\n",
    "from pytube import YouTube"
   ]
  },
  {
   "cell_type": "code",
   "execution_count": null,
   "metadata": {},
   "outputs": [],
   "source": [
    "root = Tk()\n",
    "root.geometry(\"400x500\")\n",
    "root.title(\"YouTube video downloader application \")"
   ]
  },
  {
   "cell_type": "code",
   "execution_count": null,
   "metadata": {},
   "outputs": [],
   "source": [
    "def download():\n",
    "    try:\n",
    "        myVar.set(\"Downloading.....\")\n",
    "        root.update()\n",
    "        YouTube(link.get()).streams.first().download()\n",
    "        link.set(\"Downloaded successfully !!!\")\n",
    "    except Exception as e:\n",
    "        myVar.set(\"Mistake\")\n",
    "        root.update()\n",
    "        link.set(\"Enter correct link !!!\")"
   ]
  },
  {
   "cell_type": "code",
   "execution_count": null,
   "metadata": {},
   "outputs": [],
   "source": [
    "Label(root, text = \"Welcome to the youtube videos downloader\", font = \"Consolas 15 bold\").pack()\n",
    "myVar = StringVar()\n",
    "myVar.set(\"Enter the link below\")\n",
    "Entry(root, textvariable = myVar, width = 40).pack(pady = 10)\n",
    "link = StringVar()\n",
    "Entry(root, textvariable = link, width = 40).pack(pady = 10)\n",
    "Button(root, text = \"Download Video\", command = download).pack()\n",
    "root.mainloop()"
   ]
  },
  {
   "cell_type": "code",
   "execution_count": null,
   "metadata": {},
   "outputs": [],
   "source": []
  }
 ],
 "metadata": {
  "kernelspec": {
   "display_name": "Python 3",
   "language": "python",
   "name": "python3"
  },
  "language_info": {
   "codemirror_mode": {
    "name": "ipython",
    "version": 3
   },
   "file_extension": ".py",
   "mimetype": "text/x-python",
   "name": "python",
   "nbconvert_exporter": "python",
   "pygments_lexer": "ipython3",
   "version": "3.7.7"
  }
 },
 "nbformat": 4,
 "nbformat_minor": 4
}
